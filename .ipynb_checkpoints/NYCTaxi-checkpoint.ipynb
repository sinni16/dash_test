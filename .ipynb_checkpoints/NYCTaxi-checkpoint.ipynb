{
  "cells": [
    {
      "cell_type": "raw",
      "metadata": {},
      "source": [
        "---\n",
        "title: \"NYCTaxi\"\n",
        "author: \"김시은\"\n",
        "format: dashboard\n",
        "execute: \n",
        "  enabled: true\n",
        "  cache: falses\n",
        "  freeze: false\n",
        "  error: trues\n",
        "---"
      ],
      "id": "825845bb"
    },
    {
      "cell_type": "code",
      "metadata": {},
      "source": [
        "#| output: false\n",
        "import numpy as np\n",
        "import pandas as pd\n",
        "import plotly.express as px\n",
        "import plotly.io as pio\n",
        "\n",
        "pd.options.plotting.backend = \"plotly\"\n",
        "pio.templates.default = \"plotly_white\"\n",
        "\n",
        "df = pd.read_csv(\"https://raw.githubusercontent.com/guebin/DV2023/main/posts/NYCTaxi.csv\").assign(\n",
        "    log_trip_duration = lambda df: np.log(df.trip_duration),\n",
        "    pickup_datetime = lambda df: df.pickup_datetime.apply(pd.to_datetime),\n",
        "    dropoff_datetime = lambda df: df.dropoff_datetime.apply(pd.to_datetime),\n",
        "    dist = lambda df: np.sqrt((df.pickup_latitude-df.dropoff_latitude)**2 + (df.pickup_longitude-df.dropoff_longitude)**2),\n",
        "    #---#\n",
        "    vendor_id = lambda df: df.vendor_id.map({1:'A',2:'B'})\n",
        ").assign(\n",
        "    speed = lambda df: df.dist / df.trip_duration,\n",
        "    pickup_hour = lambda df: df.pickup_datetime.dt.hour,\n",
        "    dropoff_hour = lambda df: df.dropoff_datetime.dt.hour,\n",
        "    dayofweek = lambda df: df.pickup_datetime.dt.dayofweek.map({0:'월',1:'화',2:'수',3:'목',4:'금',5:'토',6:'일'})\n",
        ")\n",
        "df_small = df[::100].reset_index(drop=True)\n",
        "\n",
        "tidydata1 = df.pivot_table(\n",
        "    index = 'pickup_hour',\n",
        "    columns = 'dayofweek',\n",
        "    values = 'speed',\n",
        "    aggfunc = 'mean'\n",
        ").stack().reset_index().rename({0:'speed_mean'},axis=1)\n",
        "\n",
        "fig1 = px.density_heatmap(\n",
        "    data_frame=tidydata1,\n",
        "    x='pickup_hour',\n",
        "    y='dayofweek',\n",
        "    z='speed_mean',\n",
        "    nbinsx=24,\n",
        "    nbinsy=7,\n",
        "    height=300 \n",
        ")\n",
        "\n",
        "tidydata2 = df.pivot_table(\n",
        "    index = 'pickup_hour',\n",
        "    columns = 'dayofweek',\n",
        "    values = 'dist',\n",
        "    aggfunc = 'mean'\n",
        ").stack().reset_index().rename({0:'dist_mean'},axis=1)\n",
        "\n",
        "fig2 = px.density_heatmap(\n",
        "    data_frame=tidydata2,\n",
        "    x='pickup_hour',\n",
        "    y='dayofweek',\n",
        "    z='dist_mean',\n",
        "    nbinsx=24,\n",
        "    nbinsy=7,\n",
        "    height=300\n",
        ")\n",
        "\n",
        "pcol = ['pickup_datetime', 'pickup_longitude', 'pickup_latitude', 'pickup_hour']\n",
        "dcol = ['dropoff_datetime', 'dropoff_longitude', 'dropoff_latitude', 'dropoff_hour']\n",
        "def transform(df):\n",
        "    pickup = df.loc[:,['id']+pcol].set_axis(['id','datetime', 'longitude', 'latitude', 'hour'],axis=1).assign(type = 'pickup')\n",
        "    dropoff = df.loc[:,['id']+dcol].set_axis(['id','datetime', 'longitude', 'latitude', 'hour'],axis=1).assign(type = 'dropoff')\n",
        "    return pd.concat([pickup,dropoff],axis=0)\n",
        "df_left = df_small.drop(pcol+dcol,axis=1)\n",
        "df_right = transform(df_small)\n",
        "df_feature_small = df_left.merge(df_right)\n",
        "tidydata3 = df_feature_small.assign(\n",
        "    speed_cut = pd.qcut(df_feature_small.speed,4,labels=['매우느림','조금느림','조금빠름','매우빠름'])\n",
        ").sort_values('speed_cut')\n",
        "\n",
        "fig3 = px.line_mapbox(\n",
        "    data_frame=tidydata3,\n",
        "    lat = 'latitude',\n",
        "    lon = 'longitude',\n",
        "    line_group = 'id',\n",
        "    color = 'speed_cut',\n",
        "    center = {'lat':40.7322, 'lon':-73.9052},\n",
        "    #---#\n",
        "    mapbox_style = 'carto-positron',\n",
        "    zoom=11\n",
        "\n",
        ")\n",
        "scatter_data = px.scatter_mapbox(\n",
        "    data_frame=tidydata3,\n",
        "    lat = 'latitude',\n",
        "    lon = 'longitude',\n",
        "    size = 'passenger_count',\n",
        "    size_max = 10,\n",
        "    color = 'speed_cut',\n",
        "    #---#\n",
        "    mapbox_style = 'carto-positron',\n",
        "    zoom=11\n",
        ").data "
      ],
      "id": "2bfe14ee",
      "execution_count": null,
      "outputs": []
    },
    {
      "cell_type": "markdown",
      "metadata": {},
      "source": [
        "# 기말고사1-(1),(2)\n",
        "\n",
        "## Row {height=50%}\n"
      ],
      "id": "64649ea9"
    },
    {
      "cell_type": "code",
      "metadata": {
        "title": "요일,시간에 따른 평균속력 시각화"
      },
      "source": [
        "fig1.show()"
      ],
      "id": "6367a8c1",
      "execution_count": null,
      "outputs": []
    },
    {
      "cell_type": "markdown",
      "metadata": {},
      "source": [
        "## Row {height=50%}\n"
      ],
      "id": "2b2ca96e"
    },
    {
      "cell_type": "code",
      "metadata": {
        "title": "요일,시간에 따른 평균이동거리 시각화"
      },
      "source": [
        "fig2.show()"
      ],
      "id": "870b3972",
      "execution_count": null,
      "outputs": []
    },
    {
      "cell_type": "markdown",
      "metadata": {},
      "source": [
        "# 기말고사1-(3)\n"
      ],
      "id": "23b2f5c3"
    },
    {
      "cell_type": "code",
      "metadata": {
        "title": "속력별 경로 시각화"
      },
      "source": [
        "for sd in scatter_data: \n",
        "    fig3.add_trace(sd)\n",
        "fig3.update_traces(\n",
        "    line={\n",
        "        'width':1\n",
        "    },\n",
        "    opacity=0.8\n",
        ")\n",
        "fig3.show()"
      ],
      "id": "131a1ebe",
      "execution_count": null,
      "outputs": []
    }
  ],
  "metadata": {
    "kernelspec": {
      "name": "python3",
      "language": "python",
      "display_name": "Python 3 (ipykernel)"
    }
  },
  "nbformat": 4,
  "nbformat_minor": 5
}